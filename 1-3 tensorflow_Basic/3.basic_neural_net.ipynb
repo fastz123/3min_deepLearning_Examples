{
 "cells": [
  {
   "cell_type": "code",
   "execution_count": 21,
   "metadata": {},
   "outputs": [],
   "source": [
    "import tensorflow as tf"
   ]
  },
  {
   "cell_type": "code",
   "execution_count": 22,
   "metadata": {},
   "outputs": [],
   "source": [
    "import numpy as np"
   ]
  },
  {
   "cell_type": "code",
   "execution_count": 23,
   "metadata": {},
   "outputs": [],
   "source": [
    "x_data = np.array([[0,0],[1,0],[1,1],[0,0],[0,0],[0,1]])\n",
    "y_data = np.array([[1,0,0],[0,1,0],[0,0,1],[1,0,0],[1,0,0],[0,0,1]])"
   ]
  },
  {
   "cell_type": "code",
   "execution_count": 24,
   "metadata": {},
   "outputs": [],
   "source": [
    "X = tf.placeholder(tf.float32)\n",
    "Y = tf.placeholder(tf.float32)"
   ]
  },
  {
   "cell_type": "code",
   "execution_count": 25,
   "metadata": {},
   "outputs": [],
   "source": [
    "W = tf.Variable(tf.random_uniform([2,3],-1.,1.))\n",
    "b = tf.Variable(tf.zeros([3]))"
   ]
  },
  {
   "cell_type": "code",
   "execution_count": 26,
   "metadata": {},
   "outputs": [],
   "source": [
    "L = tf.add(tf.matmul(X,W),b)\n",
    "L = tf.nn.relu(L)"
   ]
  },
  {
   "cell_type": "code",
   "execution_count": 27,
   "metadata": {},
   "outputs": [],
   "source": [
    "model = tf.nn.softmax(L)"
   ]
  },
  {
   "cell_type": "code",
   "execution_count": 28,
   "metadata": {},
   "outputs": [],
   "source": [
    "cost = tf.reduce_mean(-tf.reduce_sum(Y*tf.log(model),axis=1))"
   ]
  },
  {
   "cell_type": "code",
   "execution_count": 29,
   "metadata": {},
   "outputs": [],
   "source": [
    "optimizer = tf.train.GradientDescentOptimizer(learning_rate=0.01)\n",
    "train_op = optimizer.minimize(cost)"
   ]
  },
  {
   "cell_type": "code",
   "execution_count": 30,
   "metadata": {},
   "outputs": [],
   "source": [
    "sess = tf.Session()\n",
    "sess.run(tf.global_variables_initializer())"
   ]
  },
  {
   "cell_type": "code",
   "execution_count": 36,
   "metadata": {},
   "outputs": [
    {
     "name": "stdout",
     "output_type": "stream",
     "text": [
      "cost: 0.946184 \n",
      "W: [[-0.19483805 -0.09379983 -0.38064653]\n",
      " [-0.74103737 -0.89754987  0.9995056 ]] \n",
      "b: [0.         0.         0.00033898]\n",
      "cost: 0.9430108 \n",
      "W: [[-0.19483805 -0.09379983 -0.37205225]\n",
      " [-0.74103737 -0.89754987  1.0151347 ]] \n",
      "b: [0.         0.         0.00096036]\n",
      "cost: 0.939905 \n",
      "W: [[-0.19483805 -0.09379983 -0.36355716]\n",
      " [-0.74103737 -0.89754987  1.030603  ]] \n",
      "b: [0.         0.         0.00142371]\n",
      "cost: 0.936841 \n",
      "W: [[-0.19483805 -0.09379983 -0.35516298]\n",
      " [-0.74103737 -0.89754987  1.0459065 ]] \n",
      "b: [0.000000e+00 0.000000e+00 5.135694e-05]\n",
      "cost: 0.93386173 \n",
      "W: [[-0.19483805 -0.09379983 -0.3468666 ]\n",
      " [-0.74103737 -0.89754987  1.061051  ]] \n",
      "b: [0.         0.         0.00018786]\n",
      "cost: 0.9309438 \n",
      "W: [[-0.19483805 -0.09379983 -0.33866704]\n",
      " [-0.74103737 -0.89754987  1.0760385 ]] \n",
      "b: [0.         0.         0.00016833]\n",
      "cost: 0.9280865 \n",
      "W: [[-0.19483805 -0.09379983 -0.33056384]\n",
      " [-0.74103737 -0.89754987  1.0908692 ]] \n",
      "b: [ 0.00000e+00  0.00000e+00 -8.51728e-06]\n",
      "cost: 0.92531776 \n",
      "W: [[-0.19483805 -0.09379983 -0.3225553 ]\n",
      " [-0.74103737 -0.89754987  1.1055465 ]] \n",
      "b: [0.         0.         0.00132858]\n",
      "cost: 0.92257357 \n",
      "W: [[-0.19483805 -0.09379983 -0.31464106]\n",
      " [-0.74103737 -0.89754987  1.1200706 ]] \n",
      "b: [0.         0.         0.00084481]\n",
      "cost: 0.91988206 \n",
      "W: [[-0.19483805 -0.09379983 -0.30681935]\n",
      " [-0.74103737 -0.89754987  1.1344448 ]] \n",
      "b: [0.         0.         0.00021179]\n"
     ]
    }
   ],
   "source": [
    "for i in range(100):\n",
    "    sess.run(train_op,feed_dict={X:x_data,Y:y_data})\n",
    "    if i%10 == 0:\n",
    "        print(\n",
    "            \"cost:\",sess.run(cost,feed_dict={X:x_data,Y:y_data}),\n",
    "            \"\\nW:\",sess.run(W,feed_dict={X:x_data,Y:y_data}),\n",
    "            \"\\nb:\",sess.run(b,feed_dict={X:x_data,Y:y_data})\n",
    "        )"
   ]
  },
  {
   "cell_type": "code",
   "execution_count": 48,
   "metadata": {},
   "outputs": [
    {
     "name": "stdout",
     "output_type": "stream",
     "text": [
      "[[0.33318326 0.33318326 0.33363348]\n",
      " [0.33333334 0.33333334 0.33333334]\n",
      " [0.23058902 0.23058902 0.538822  ]\n",
      " [0.33318326 0.33318326 0.33363348]\n",
      " [0.33318326 0.33318326 0.33363348]\n",
      " [0.19403182 0.19403182 0.61193633]]\n"
     ]
    },
    {
     "data": {
      "text/plain": [
       "array([2, 0, 2, 2, 2, 2], dtype=int64)"
      ]
     },
     "execution_count": 48,
     "metadata": {},
     "output_type": "execute_result"
    }
   ],
   "source": [
    "print(sess.run(model,feed_dict={X:x_data,Y:y_data}))\n",
    "prediction = tf.argmax(model,axis=1)\n",
    "sess.run(prediction,feed_dict={X:x_data,Y:y_data})"
   ]
  },
  {
   "cell_type": "code",
   "execution_count": 50,
   "metadata": {},
   "outputs": [
    {
     "name": "stdout",
     "output_type": "stream",
     "text": [
      "예측값: [2 0 2 2 2 2]\n",
      "실제값: [0 1 2 0 0 2]\n"
     ]
    }
   ],
   "source": [
    "target = tf.argmax(Y,axis=1)\n",
    "print(\"예측값:\",sess.run(prediction,feed_dict={X:x_data,Y:y_data}))\n",
    "print(\"실제값:\",sess.run(target,feed_dict={X:x_data,Y:y_data}))"
   ]
  },
  {
   "cell_type": "code",
   "execution_count": 51,
   "metadata": {},
   "outputs": [
    {
     "name": "stdout",
     "output_type": "stream",
     "text": [
      "정확도: 33.33\n"
     ]
    }
   ],
   "source": [
    "is_correct = tf.equal(prediction,target)\n",
    "accurarcy = tf.reduce_mean(tf.cast(is_correct,tf.float32))\n",
    "print(\"정확도: %.2f\" %sess.run(accurarcy*100,feed_dict={X:x_data,Y:y_data}))"
   ]
  },
  {
   "cell_type": "code",
   "execution_count": null,
   "metadata": {},
   "outputs": [],
   "source": []
  }
 ],
 "metadata": {
  "kernelspec": {
   "display_name": "Python 3",
   "language": "python",
   "name": "python3"
  },
  "language_info": {
   "codemirror_mode": {
    "name": "ipython",
    "version": 3
   },
   "file_extension": ".py",
   "mimetype": "text/x-python",
   "name": "python",
   "nbconvert_exporter": "python",
   "pygments_lexer": "ipython3",
   "version": "3.6.4"
  }
 },
 "nbformat": 4,
 "nbformat_minor": 2
}

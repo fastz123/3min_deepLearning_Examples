{
  "nbformat": 4,
  "nbformat_minor": 0,
  "metadata": {
    "colab": {
      "name": "MNIST_NN_2.ipynb",
      "version": "0.3.2",
      "provenance": []
    },
    "kernelspec": {
      "name": "python3",
      "display_name": "Python 3"
    }
  },
  "cells": [
    {
      "metadata": {
        "id": "yHACta3549Bd",
        "colab_type": "code",
        "colab": {}
      },
      "cell_type": "code",
      "source": [
        "import tensorflow as tf\n",
        "import numpy as np"
      ],
      "execution_count": 0,
      "outputs": []
    },
    {
      "metadata": {
        "id": "7YJdiLRK4-ot",
        "colab_type": "code",
        "colab": {
          "base_uri": "https://localhost:8080/",
          "height": 85
        },
        "outputId": "aa215f6c-4ebd-4c39-eb6f-dfc87c27c68a"
      },
      "cell_type": "code",
      "source": [
        "from tensorflow.examples.tutorials.mnist import input_data\n",
        "mnist = input_data.read_data_sets(\"./mnist/data/\",one_hot=True)"
      ],
      "execution_count": 30,
      "outputs": [
        {
          "output_type": "stream",
          "text": [
            "Extracting ./mnist/data/train-images-idx3-ubyte.gz\n",
            "Extracting ./mnist/data/train-labels-idx1-ubyte.gz\n",
            "Extracting ./mnist/data/t10k-images-idx3-ubyte.gz\n",
            "Extracting ./mnist/data/t10k-labels-idx1-ubyte.gz\n"
          ],
          "name": "stdout"
        }
      ]
    },
    {
      "metadata": {
        "id": "G_6c9mqS4_6W",
        "colab_type": "code",
        "colab": {}
      },
      "cell_type": "code",
      "source": [
        "X=tf.placeholder(tf.float32,[None,784])\n",
        "Y=tf.placeholder(tf.float32,[None,10])"
      ],
      "execution_count": 0,
      "outputs": []
    },
    {
      "metadata": {
        "id": "oVeO1yUn5PwC",
        "colab_type": "code",
        "colab": {}
      },
      "cell_type": "code",
      "source": [
        "keep_prob = tf.placeholder(tf.float32)\n",
        "W1 = tf.Variable(tf.random_normal([784,256],stddev=0.01))\n",
        "L1 = tf.nn.relu(tf.matmul(X,W1))\n",
        "L1 = tf.nn.dropout(L1,0.8)\n",
        "W2 = tf.Variable(tf.random_normal([256,256],stddev=0.01))\n",
        "L2 = tf.nn.relu(tf.matmul(L1,W2))\n",
        "L2 = tf.nn.dropout(L2,0.8)\n",
        "W3 = tf.Variable(tf.random_normal([256,10],stddev=0.01))\n",
        "L3 = tf.matmul(L2,W3)"
      ],
      "execution_count": 0,
      "outputs": []
    },
    {
      "metadata": {
        "id": "8l1_wRup53iR",
        "colab_type": "code",
        "colab": {}
      },
      "cell_type": "code",
      "source": [
        "cost = tf.reduce_mean(tf.nn.softmax_cross_entropy_with_logits_v2(labels=Y,logits=L3))\n",
        "optimizer = tf.train.AdamOptimizer(learning_rate=0.001).minimize(cost)"
      ],
      "execution_count": 0,
      "outputs": []
    },
    {
      "metadata": {
        "id": "K5qjfBue6G5G",
        "colab_type": "code",
        "colab": {}
      },
      "cell_type": "code",
      "source": [
        "sess = tf.Session()\n",
        "sess.run(tf.global_variables_initializer())"
      ],
      "execution_count": 0,
      "outputs": []
    },
    {
      "metadata": {
        "id": "SCdqikdb6KMI",
        "colab_type": "code",
        "colab": {}
      },
      "cell_type": "code",
      "source": [
        "batch_size=100\n",
        "total_batch = int(mnist.train.num_examples/batch_size)"
      ],
      "execution_count": 0,
      "outputs": []
    },
    {
      "metadata": {
        "id": "UEi7rvfO6UJd",
        "colab_type": "code",
        "colab": {
          "base_uri": "https://localhost:8080/",
          "height": 544
        },
        "outputId": "904be227-29b7-4807-90c7-366ed4e1ab90"
      },
      "cell_type": "code",
      "source": [
        "for epoch in range(30):\n",
        "  total_cost=0\n",
        "  for i in range(total_batch):\n",
        "    batch_xs,batch_ys = mnist.train.next_batch(batch_size)\n",
        "    _,cost_val=sess.run([optimizer,cost],feed_dict={X:batch_xs,Y:batch_ys,keep_prob:0.8})\n",
        "    total_cost+=cost_val\n",
        "  print(\"Epoch\",\"%04d\"%(epoch+1),'{:.8f}'.format(total_cost/total_batch))\n",
        "print(\"Finish\")"
      ],
      "execution_count": 38,
      "outputs": [
        {
          "output_type": "stream",
          "text": [
            "Epoch 0001 0.02757394\n",
            "Epoch 0002 0.02256321\n",
            "Epoch 0003 0.02221702\n",
            "Epoch 0004 0.02186067\n",
            "Epoch 0005 0.02147948\n",
            "Epoch 0006 0.01877247\n",
            "Epoch 0007 0.01941394\n",
            "Epoch 0008 0.01944630\n",
            "Epoch 0009 0.01742764\n",
            "Epoch 0010 0.01804176\n",
            "Epoch 0011 0.01565460\n",
            "Epoch 0012 0.01809496\n",
            "Epoch 0013 0.01693973\n",
            "Epoch 0014 0.01620142\n",
            "Epoch 0015 0.01654598\n",
            "Epoch 0016 0.01647889\n",
            "Epoch 0017 0.01407154\n",
            "Epoch 0018 0.01415849\n",
            "Epoch 0019 0.01592159\n",
            "Epoch 0020 0.01538297\n",
            "Epoch 0021 0.01390881\n",
            "Epoch 0022 0.01248834\n",
            "Epoch 0023 0.01257133\n",
            "Epoch 0024 0.01532858\n",
            "Epoch 0025 0.01429935\n",
            "Epoch 0026 0.01290741\n",
            "Epoch 0027 0.01198338\n",
            "Epoch 0028 0.01443750\n",
            "Epoch 0029 0.01374903\n",
            "Epoch 0030 0.01273334\n",
            "Finish\n"
          ],
          "name": "stdout"
        }
      ]
    },
    {
      "metadata": {
        "id": "vqZbkD6K7O4Y",
        "colab_type": "code",
        "colab": {
          "base_uri": "https://localhost:8080/",
          "height": 34
        },
        "outputId": "2f88a96e-8917-4d91-bf29-3edbc8d4f9fd"
      },
      "cell_type": "code",
      "source": [
        "is_correct = tf.equal(tf.argmax(L3,1),tf.argmax(Y,1))\n",
        "accu = tf.reduce_mean(tf.cast(is_correct,tf.float32))\n",
        "print(\"정확도:\",sess.run(accu,feed_dict={X:mnist.test.images,Y:mnist.test.labels,keep_prob:1}))"
      ],
      "execution_count": 39,
      "outputs": [
        {
          "output_type": "stream",
          "text": [
            "정확도: 0.979\n"
          ],
          "name": "stdout"
        }
      ]
    },
    {
      "metadata": {
        "id": "UjaAqdGZ7zot",
        "colab_type": "code",
        "colab": {}
      },
      "cell_type": "code",
      "source": [
        ""
      ],
      "execution_count": 0,
      "outputs": []
    }
  ]
}
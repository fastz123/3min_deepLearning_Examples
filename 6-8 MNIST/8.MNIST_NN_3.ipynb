{
  "nbformat": 4,
  "nbformat_minor": 0,
  "metadata": {
    "colab": {
      "name": "Untitled1.ipynb",
      "version": "0.3.2",
      "provenance": []
    },
    "kernelspec": {
      "name": "python3",
      "display_name": "Python 3"
    }
  },
  "cells": [
    {
      "metadata": {
        "id": "9jKQgoecxeGz",
        "colab_type": "code",
        "colab": {
          "base_uri": "https://localhost:8080/",
          "height": 53
        },
        "outputId": "31a5ddc1-5d26-4925-8919-5f7fe46c5925"
      },
      "cell_type": "code",
      "source": [
        "import tensorflow as tf\n",
        "import numpy as np"
      ],
      "execution_count": 1,
      "outputs": [
        {
          "output_type": "stream",
          "text": [
            "C:\\Users\\after\\Anaconda3\\lib\\site-packages\\h5py\\__init__.py:36: FutureWarning: Conversion of the second argument of issubdtype from `float` to `np.floating` is deprecated. In future, it will be treated as `np.float64 == np.dtype(float).type`.\n",
            "  from ._conv import register_converters as _register_converters\n"
          ],
          "name": "stderr"
        }
      ]
    },
    {
      "metadata": {
        "id": "YXrc0D7Yxgbe",
        "colab_type": "code",
        "outputId": "e27a34da-c18b-42d9-f271-0420b4907029",
        "colab": {
          "base_uri": "https://localhost:8080/",
          "height": 559
        }
      },
      "cell_type": "code",
      "source": [
        "from tensorflow.examples.tutorials.mnist import input_data\n",
        "mnist = input_data.read_data_sets(\"./mnist/data/\",one_hot=True)"
      ],
      "execution_count": 2,
      "outputs": [
        {
          "output_type": "stream",
          "text": [
            "WARNING:tensorflow:From <ipython-input-2-c0a6fc77db27>:2: read_data_sets (from tensorflow.contrib.learn.python.learn.datasets.mnist) is deprecated and will be removed in a future version.\n",
            "Instructions for updating:\n",
            "Please use alternatives such as official/mnist/dataset.py from tensorflow/models.\n",
            "WARNING:tensorflow:From C:\\Users\\after\\Anaconda3\\lib\\site-packages\\tensorflow\\contrib\\learn\\python\\learn\\datasets\\mnist.py:260: maybe_download (from tensorflow.contrib.learn.python.learn.datasets.base) is deprecated and will be removed in a future version.\n",
            "Instructions for updating:\n",
            "Please write your own downloading logic.\n",
            "WARNING:tensorflow:From C:\\Users\\after\\Anaconda3\\lib\\site-packages\\tensorflow\\contrib\\learn\\python\\learn\\datasets\\base.py:252: _internal_retry.<locals>.wrap.<locals>.wrapped_fn (from tensorflow.contrib.learn.python.learn.datasets.base) is deprecated and will be removed in a future version.\n",
            "Instructions for updating:\n",
            "Please use urllib or similar directly.\n",
            "Successfully downloaded train-images-idx3-ubyte.gz 9912422 bytes.\n",
            "WARNING:tensorflow:From C:\\Users\\after\\Anaconda3\\lib\\site-packages\\tensorflow\\contrib\\learn\\python\\learn\\datasets\\mnist.py:262: extract_images (from tensorflow.contrib.learn.python.learn.datasets.mnist) is deprecated and will be removed in a future version.\n",
            "Instructions for updating:\n",
            "Please use tf.data to implement this functionality.\n",
            "Extracting ./mnist/data/train-images-idx3-ubyte.gz\n",
            "Successfully downloaded train-labels-idx1-ubyte.gz 28881 bytes.\n",
            "WARNING:tensorflow:From C:\\Users\\after\\Anaconda3\\lib\\site-packages\\tensorflow\\contrib\\learn\\python\\learn\\datasets\\mnist.py:267: extract_labels (from tensorflow.contrib.learn.python.learn.datasets.mnist) is deprecated and will be removed in a future version.\n",
            "Instructions for updating:\n",
            "Please use tf.data to implement this functionality.\n",
            "Extracting ./mnist/data/train-labels-idx1-ubyte.gz\n",
            "WARNING:tensorflow:From C:\\Users\\after\\Anaconda3\\lib\\site-packages\\tensorflow\\contrib\\learn\\python\\learn\\datasets\\mnist.py:110: dense_to_one_hot (from tensorflow.contrib.learn.python.learn.datasets.mnist) is deprecated and will be removed in a future version.\n",
            "Instructions for updating:\n",
            "Please use tf.one_hot on tensors.\n",
            "Successfully downloaded t10k-images-idx3-ubyte.gz 1648877 bytes.\n",
            "Extracting ./mnist/data/t10k-images-idx3-ubyte.gz\n",
            "Successfully downloaded t10k-labels-idx1-ubyte.gz 4542 bytes.\n",
            "Extracting ./mnist/data/t10k-labels-idx1-ubyte.gz\n",
            "WARNING:tensorflow:From C:\\Users\\after\\Anaconda3\\lib\\site-packages\\tensorflow\\contrib\\learn\\python\\learn\\datasets\\mnist.py:290: DataSet.__init__ (from tensorflow.contrib.learn.python.learn.datasets.mnist) is deprecated and will be removed in a future version.\n",
            "Instructions for updating:\n",
            "Please use alternatives such as official/mnist/dataset.py from tensorflow/models.\n"
          ],
          "name": "stdout"
        }
      ]
    },
    {
      "metadata": {
        "id": "GH9Y9jqrhA-B",
        "colab_type": "code",
        "colab": {}
      },
      "cell_type": "code",
      "source": [
        "X = tf.placeholder(tf.float32,[None,784])\n",
        "Y = tf.placeholder(tf.float32,[None,10])"
      ],
      "execution_count": 0,
      "outputs": []
    },
    {
      "metadata": {
        "id": "pP-So0eijq6G",
        "colab_type": "code",
        "colab": {}
      },
      "cell_type": "code",
      "source": [
        "keep_prob=tf.placeholder(tf.float32)\n",
        "W1 = tf.Variable(tf.random_normal([784,256],stddev=0.01))\n",
        "L1 = tf.nn.relu(tf.matmul(X,W1))\n",
        "L1 = tf.nn.dropout(L1,keep_prob)\n",
        "W2 = tf.Variable(tf.random_normal([256,256],stddev=0.01))\n",
        "L2 = tf.nn.relu(tf.matmul(L1,W2))\n",
        "L2 = tf.nn.dropout(L2,keep_prob)\n",
        "W3 = tf.Variable(tf.random_normal([256,10],stddev=0.01))\n",
        "L3 = tf.matmul(L2,W3)"
      ],
      "execution_count": 0,
      "outputs": []
    },
    {
      "metadata": {
        "id": "a-h9dzGfklfx",
        "colab_type": "code",
        "colab": {}
      },
      "cell_type": "code",
      "source": [
        "cost = tf.reduce_mean(tf.nn.softmax_cross_entropy_with_logits_v2(labels=Y,logits=L3))\n",
        "optimizer = tf.train.AdamOptimizer(learning_rate=0.01).minimize(cost)"
      ],
      "execution_count": 0,
      "outputs": []
    },
    {
      "metadata": {
        "id": "lYEuxEkDlF2m",
        "colab_type": "code",
        "colab": {}
      },
      "cell_type": "code",
      "source": [
        "sess = tf.Session()\n",
        "sess.run(tf.global_variables_initializer())"
      ],
      "execution_count": 0,
      "outputs": []
    },
    {
      "metadata": {
        "id": "QKInsge1lJ8A",
        "colab_type": "code",
        "colab": {
          "base_uri": "https://localhost:8080/",
          "height": 35
        },
        "outputId": "357440b6-0a54-499b-bdd3-e1b22ce8c5c7"
      },
      "cell_type": "code",
      "source": [
        "batch_size=100\n",
        "total_batch = int(mnist.train.num_examples/batch_size)\n",
        "print(total_batch)"
      ],
      "execution_count": 7,
      "outputs": [
        {
          "output_type": "stream",
          "text": [
            "550\n"
          ],
          "name": "stdout"
        }
      ]
    },
    {
      "metadata": {
        "id": "Nyd4g-OXldPz",
        "colab_type": "code",
        "colab": {
          "base_uri": "https://localhost:8080/",
          "height": 575
        },
        "outputId": "096b952f-1116-4237-e7f4-dc0736ec0aa5"
      },
      "cell_type": "code",
      "source": [
        "for epoch in range(30):\n",
        "  total_cost=0\n",
        "  for i in range(total_batch):\n",
        "    batch_xs,batch_ys=mnist.train.next_batch(batch_size)\n",
        "    _,cost_val = sess.run([optimizer,cost],feed_dict={X:batch_xs,Y:batch_ys,keep_prob:0.8})\n",
        "    total_cost += cost_val\n",
        "  print(\"Epoch:\",'%04d'%epoch,\"Cost:\",'{:.8f}'.format(total_cost/total_batch))\n",
        "print(\"Finish Optimize\")"
      ],
      "execution_count": 8,
      "outputs": [
        {
          "output_type": "stream",
          "text": [
            "Epoch: 0000 Cost: 0.34261282\n",
            "Epoch: 0001 Cost: 0.24516694\n",
            "Epoch: 0002 Cost: 0.22857308\n",
            "Epoch: 0003 Cost: 0.21498070\n",
            "Epoch: 0004 Cost: 0.20341823\n",
            "Epoch: 0005 Cost: 0.18771996\n",
            "Epoch: 0006 Cost: 0.19425647\n",
            "Epoch: 0007 Cost: 0.17894606\n",
            "Epoch: 0008 Cost: 0.17938767\n",
            "Epoch: 0009 Cost: 0.17242493\n",
            "Epoch: 0010 Cost: 0.17579634\n",
            "Epoch: 0011 Cost: 0.17238403\n",
            "Epoch: 0012 Cost: 0.16403509\n",
            "Epoch: 0013 Cost: 0.16817804\n",
            "Epoch: 0014 Cost: 0.15142251\n",
            "Epoch: 0015 Cost: 0.15673875\n",
            "Epoch: 0016 Cost: 0.15949468\n",
            "Epoch: 0017 Cost: 0.15703845\n",
            "Epoch: 0018 Cost: 0.15213952\n",
            "Epoch: 0019 Cost: 0.15510753\n",
            "Epoch: 0020 Cost: 0.16798463\n",
            "Epoch: 0021 Cost: 0.14071783\n",
            "Epoch: 0022 Cost: 0.15387300\n",
            "Epoch: 0023 Cost: 0.14461616\n",
            "Epoch: 0024 Cost: 0.14401152\n",
            "Epoch: 0025 Cost: 0.14207486\n",
            "Epoch: 0026 Cost: 0.14381473\n",
            "Epoch: 0027 Cost: 0.14684563\n",
            "Epoch: 0028 Cost: 0.14306088\n",
            "Epoch: 0029 Cost: 0.14271561\n",
            "Finish Optimize\n"
          ],
          "name": "stdout"
        }
      ]
    },
    {
      "metadata": {
        "id": "OuACwzi-mXWp",
        "colab_type": "code",
        "colab": {
          "base_uri": "https://localhost:8080/",
          "height": 35
        },
        "outputId": "5a5b0bd7-a294-45d9-d786-c42358dae0bb"
      },
      "cell_type": "code",
      "source": [
        "accu = tf.reduce_mean(tf.cast(tf.equal(tf.argmax(L3,1),tf.argmax(Y,1)),tf.float32))\n",
        "print(sess.run(accu*100,feed_dict={X:mnist.test.images,Y:mnist.test.labels,keep_prob:1}))"
      ],
      "execution_count": 9,
      "outputs": [
        {
          "output_type": "stream",
          "text": [
            "97.02\n"
          ],
          "name": "stdout"
        }
      ]
    },
    {
      "metadata": {
        "id": "jk5T9E7_nhqz",
        "colab_type": "code",
        "colab": {}
      },
      "cell_type": "code",
      "source": [
        "import matplotlib.pyplot as plt"
      ],
      "execution_count": 0,
      "outputs": []
    },
    {
      "metadata": {
        "id": "IJx4DwtOpYFw",
        "colab_type": "code",
        "colab": {}
      },
      "cell_type": "code",
      "source": [
        "labels = sess.run(L3,feed_dict={X:mnist.test.images,Y:mnist.test.labels,keep_prob:1})"
      ],
      "execution_count": 0,
      "outputs": []
    },
    {
      "metadata": {
        "id": "AN97W_mRpqLx",
        "colab_type": "code",
        "colab": {
          "base_uri": "https://localhost:8080/",
          "height": 35
        },
        "outputId": "8bf49be3-97dd-431e-fe6b-5628dbf39d94"
      },
      "cell_type": "code",
      "source": [
        "fig = plt.figure()"
      ],
      "execution_count": 12,
      "outputs": [
        {
          "output_type": "display_data",
          "data": {
            "text/plain": [
              "<matplotlib.figure.Figure at 0x236ca0e2828>"
            ]
          },
          "metadata": {
            "tags": []
          }
        }
      ]
    },
    {
      "metadata": {
        "id": "j-QoapLNpuFI",
        "colab_type": "code",
        "colab": {}
      },
      "cell_type": "code",
      "source": [
        "for i in range(10):\n",
        "  subplot = fig.add_subplot(2,5,i+1)\n",
        "  subplot.set_xticks([])\n",
        "  subplot.set_yticks([])\n",
        "  subplot.set_title('%d'%np.argmax(labels[i]))\n",
        "  subplot.imshow(mnist.test.images[i].reshape((28,28)),cmap=plt.cm.gray_r)"
      ],
      "execution_count": 0,
      "outputs": []
    },
    {
      "metadata": {
        "id": "INZrzqalq3t1",
        "colab_type": "code",
        "colab": {}
      },
      "cell_type": "code",
      "source": [
        "plt.show()"
      ],
      "execution_count": 0,
      "outputs": []
    },
    {
      "metadata": {
        "id": "901zj6mTrdBZ",
        "colab_type": "code",
        "colab": {}
      },
      "cell_type": "code",
      "source": [
        ""
      ],
      "execution_count": 0,
      "outputs": []
    }
  ]
}
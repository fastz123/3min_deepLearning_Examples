{
  "nbformat": 4,
  "nbformat_minor": 0,
  "metadata": {
    "colab": {
      "name": "Untitled1.ipynb",
      "version": "0.3.2",
      "provenance": []
    },
    "kernelspec": {
      "name": "python3",
      "display_name": "Python 3"
    }
  },
  "cells": [
    {
      "metadata": {
        "id": "X7m8Kx66mjSp",
        "colab_type": "code",
        "colab": {
          "base_uri": "https://localhost:8080/",
          "height": 433
        },
        "outputId": "d7be2eb9-f77e-440e-c68b-0bc50c332260"
      },
      "cell_type": "code",
      "source": [
        "import tensorflow as tf\n",
        "import numpy as np\n",
        "from tensorflow.examples.tutorials.mnist import input_data\n",
        "mnist = input_data.read_data_sets(\"./mnist/data/\",one_hot=True)"
      ],
      "execution_count": 1,
      "outputs": [
        {
          "output_type": "stream",
          "text": [
            "WARNING:tensorflow:From <ipython-input-1-75334abe2335>:4: read_data_sets (from tensorflow.contrib.learn.python.learn.datasets.mnist) is deprecated and will be removed in a future version.\n",
            "Instructions for updating:\n",
            "Please use alternatives such as official/mnist/dataset.py from tensorflow/models.\n",
            "WARNING:tensorflow:From /usr/local/lib/python3.6/dist-packages/tensorflow/contrib/learn/python/learn/datasets/mnist.py:260: maybe_download (from tensorflow.contrib.learn.python.learn.datasets.base) is deprecated and will be removed in a future version.\n",
            "Instructions for updating:\n",
            "Please write your own downloading logic.\n",
            "WARNING:tensorflow:From /usr/local/lib/python3.6/dist-packages/tensorflow/contrib/learn/python/learn/datasets/mnist.py:262: extract_images (from tensorflow.contrib.learn.python.learn.datasets.mnist) is deprecated and will be removed in a future version.\n",
            "Instructions for updating:\n",
            "Please use tf.data to implement this functionality.\n",
            "Extracting ./mnist/data/train-images-idx3-ubyte.gz\n",
            "WARNING:tensorflow:From /usr/local/lib/python3.6/dist-packages/tensorflow/contrib/learn/python/learn/datasets/mnist.py:267: extract_labels (from tensorflow.contrib.learn.python.learn.datasets.mnist) is deprecated and will be removed in a future version.\n",
            "Instructions for updating:\n",
            "Please use tf.data to implement this functionality.\n",
            "Extracting ./mnist/data/train-labels-idx1-ubyte.gz\n",
            "WARNING:tensorflow:From /usr/local/lib/python3.6/dist-packages/tensorflow/contrib/learn/python/learn/datasets/mnist.py:110: dense_to_one_hot (from tensorflow.contrib.learn.python.learn.datasets.mnist) is deprecated and will be removed in a future version.\n",
            "Instructions for updating:\n",
            "Please use tf.one_hot on tensors.\n",
            "Extracting ./mnist/data/t10k-images-idx3-ubyte.gz\n",
            "Extracting ./mnist/data/t10k-labels-idx1-ubyte.gz\n",
            "WARNING:tensorflow:From /usr/local/lib/python3.6/dist-packages/tensorflow/contrib/learn/python/learn/datasets/mnist.py:290: DataSet.__init__ (from tensorflow.contrib.learn.python.learn.datasets.mnist) is deprecated and will be removed in a future version.\n",
            "Instructions for updating:\n",
            "Please use alternatives such as official/mnist/dataset.py from tensorflow/models.\n"
          ],
          "name": "stdout"
        }
      ]
    },
    {
      "metadata": {
        "id": "Kq0pw0QSAcSn",
        "colab_type": "code",
        "colab": {}
      },
      "cell_type": "code",
      "source": [
        "X = tf.placeholder(tf.float32,[None,28,28,1])\n",
        "Y = tf.placeholder(tf.float32,[None,10])\n",
        "#keep_prob=tf.placeholder(tf.float32)\n",
        "is_training=tf.placeholder(tf.bool)"
      ],
      "execution_count": 0,
      "outputs": []
    },
    {
      "metadata": {
        "id": "qBQMT0NqibBM",
        "colab_type": "code",
        "colab": {
          "base_uri": "https://localhost:8080/",
          "height": 361
        },
        "outputId": "71d94ad1-b314-45db-f525-a87f1821f856"
      },
      "cell_type": "code",
      "source": [
        "#W1 = tf.Variable(tf.random_normal([3,3,1,32],stddev=0.01))\n",
        "#L1 = tf.nn.relu(tf.nn.conv2d(X,W1,strides=[1,1,1,1],padding='SAME'))\n",
        "#L1 = tf.nn.max_pool(L1,ksize=[1,2,2,1],strides=[1,2,2,1],padding='SAME')\n",
        "\n",
        "L1 = tf.layers.conv2d(X,32,[3,3],activation=tf.nn.relu,padding='SAME')\n",
        "L1 = tf.layers.max_pooling2d(L1,[2,2],[2,2],padding='SAME')\n",
        "L1 = tf.layers.dropout(L1,0.7,is_training)\n",
        "\n",
        "#W2 = tf.Variable(tf.random_normal([3,3,32,64],stddev=0.01))\n",
        "#L2 = tf.nn.relu(tf.nn.conv2d(L1,W2,strides=[1,1,1,1],padding='SAME'))\n",
        "#L2 = tf.nn.max_pool(L2, ksize=[1,2,2,1],strides=[1,2,2,1],padding='SAME')\n",
        "\n",
        "L2 = tf.layers.conv2d(L1,64,[3,3],activation=tf.nn.relu)\n",
        "L2 = tf.layers.max_pooling2d(L2,[2,2],[2,2],padding='SAME')\n",
        "L2 = tf.layers.dropout(L2,0.7,is_training)\n",
        "\n",
        "#W3 = tf.Variable(tf.random_normal([7*7*64,256],stddev=0.01))\n",
        "#L3 = tf.reshape(L2,[-1,7*7*64])\n",
        "#L3 = tf.nn.relu(tf.matmul(L3,W3))\n",
        "#L3 = tf.nn.dropout(L3,keep_prob)\n",
        "\n",
        "L3 = tf.contrib.layers.flatten(L2)\n",
        "L3 = tf.layers.dense(L3,256,activation=tf.nn.relu)\n",
        "L3 = tf.layers.dropout(L3,0.7,is_training)\n",
        "\n",
        "#W4 = tf.Variable(tf.random_normal([256,10],stddev=0.01))\n",
        "#L4 = tf.matmul(L3,W4)\n",
        "L4 = tf.layers.dense(L3,10,activation=None)"
      ],
      "execution_count": 3,
      "outputs": [
        {
          "output_type": "stream",
          "text": [
            "WARNING:tensorflow:From <ipython-input-3-23937853e94f>:2: conv2d (from tensorflow.python.layers.convolutional) is deprecated and will be removed in a future version.\n",
            "Instructions for updating:\n",
            "Use keras.layers.conv2d instead.\n",
            "WARNING:tensorflow:From /usr/local/lib/python3.6/dist-packages/tensorflow/python/framework/op_def_library.py:263: colocate_with (from tensorflow.python.framework.ops) is deprecated and will be removed in a future version.\n",
            "Instructions for updating:\n",
            "Colocations handled automatically by placer.\n",
            "WARNING:tensorflow:From <ipython-input-3-23937853e94f>:3: max_pooling2d (from tensorflow.python.layers.pooling) is deprecated and will be removed in a future version.\n",
            "Instructions for updating:\n",
            "Use keras.layers.max_pooling2d instead.\n",
            "WARNING:tensorflow:From <ipython-input-3-23937853e94f>:4: dropout (from tensorflow.python.layers.core) is deprecated and will be removed in a future version.\n",
            "Instructions for updating:\n",
            "Use keras.layers.dropout instead.\n",
            "WARNING:tensorflow:From /usr/local/lib/python3.6/dist-packages/tensorflow/contrib/layers/python/layers/layers.py:1624: flatten (from tensorflow.python.layers.core) is deprecated and will be removed in a future version.\n",
            "Instructions for updating:\n",
            "Use keras.layers.flatten instead.\n",
            "WARNING:tensorflow:From <ipython-input-3-23937853e94f>:20: dense (from tensorflow.python.layers.core) is deprecated and will be removed in a future version.\n",
            "Instructions for updating:\n",
            "Use keras.layers.dense instead.\n"
          ],
          "name": "stdout"
        }
      ]
    },
    {
      "metadata": {
        "id": "9iSaS9cGkQ4D",
        "colab_type": "code",
        "colab": {}
      },
      "cell_type": "code",
      "source": [
        "cost = tf.reduce_mean(tf.nn.softmax_cross_entropy_with_logits_v2(labels=Y,logits=L4))\n",
        "optimizer=tf.train.AdamOptimizer(learning_rate=0.001).minimize(cost)"
      ],
      "execution_count": 0,
      "outputs": []
    },
    {
      "metadata": {
        "id": "ajmyXMKNkgob",
        "colab_type": "code",
        "colab": {}
      },
      "cell_type": "code",
      "source": [
        "batch_size = 100\n",
        "total_batch = int(mnist.train.num_examples/batch_size)"
      ],
      "execution_count": 0,
      "outputs": []
    },
    {
      "metadata": {
        "id": "s6ZVVlHUkoPz",
        "colab_type": "code",
        "colab": {}
      },
      "cell_type": "code",
      "source": [
        "sess = tf.Session()\n",
        "sess.run(tf.global_variables_initializer())"
      ],
      "execution_count": 0,
      "outputs": []
    },
    {
      "metadata": {
        "id": "WzIIPAP9ktPL",
        "colab_type": "code",
        "colab": {
          "base_uri": "https://localhost:8080/",
          "height": 305
        },
        "outputId": "51d0f6f4-6923-438b-ba65-418ea276e629"
      },
      "cell_type": "code",
      "source": [
        "for epoch in range(15):\n",
        "  total_cost = 0\n",
        "  for i in range(total_batch):\n",
        "    batch_xs,batch_ys = mnist.train.next_batch(batch_size)\n",
        "    batch_xs = batch_xs.reshape(-1,28,28,1)\n",
        "    _,cost_val = sess.run([optimizer,cost],feed_dict={X:batch_xs,Y:batch_ys,is_training:True})\n",
        "    total_cost += cost_val\n",
        "  print(\"Epoch\",'%02d'%epoch,'{:.8f}'.format(total_cost/total_batch))\n",
        "print(\"Finish\")"
      ],
      "execution_count": 7,
      "outputs": [
        {
          "output_type": "stream",
          "text": [
            "Epoch 00 0.16931430\n",
            "Epoch 01 0.04595813\n",
            "Epoch 02 0.03191339\n",
            "Epoch 03 0.02107490\n",
            "Epoch 04 0.01647901\n",
            "Epoch 05 0.01144917\n",
            "Epoch 06 0.01019366\n",
            "Epoch 07 0.00855305\n",
            "Epoch 08 0.00887384\n",
            "Epoch 09 0.00559576\n",
            "Epoch 10 0.00319671\n",
            "Epoch 11 0.00437755\n",
            "Epoch 12 0.00586419\n",
            "Epoch 13 0.00523801\n",
            "Epoch 14 0.00316183\n",
            "Finish\n"
          ],
          "name": "stdout"
        }
      ]
    },
    {
      "metadata": {
        "id": "jWpGePJ1lba6",
        "colab_type": "code",
        "colab": {
          "base_uri": "https://localhost:8080/",
          "height": 35
        },
        "outputId": "a85a9543-5383-4bb0-f9c4-499cbce0dc3d"
      },
      "cell_type": "code",
      "source": [
        "accu = tf.reduce_mean(tf.cast(tf.equal(tf.argmax(Y,1),tf.argmax(L4,1)),tf.float32))\n",
        "print(sess.run(accu*100,feed_dict={X:mnist.test.images.reshape(-1,28,28,1),Y:mnist.test.labels,is_training:1}))"
      ],
      "execution_count": 8,
      "outputs": [
        {
          "output_type": "stream",
          "text": [
            "99.19\n"
          ],
          "name": "stdout"
        }
      ]
    },
    {
      "metadata": {
        "id": "uFAH-q__pHHq",
        "colab_type": "code",
        "colab": {}
      },
      "cell_type": "code",
      "source": [
        ""
      ],
      "execution_count": 0,
      "outputs": []
    }
  ]
}